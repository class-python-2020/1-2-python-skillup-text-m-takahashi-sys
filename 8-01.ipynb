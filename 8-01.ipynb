{
 "metadata": {
  "language_info": {
   "codemirror_mode": {
    "name": "ipython",
    "version": 3
   },
   "file_extension": ".py",
   "mimetype": "text/x-python",
   "name": "python",
   "nbconvert_exporter": "python",
   "pygments_lexer": "ipython3",
   "version": "3.8.2-final"
  },
  "orig_nbformat": 2,
  "kernelspec": {
   "name": "python38232bit0d5d9c2cf14e40359bda9ab6d6f1cdc6",
   "display_name": "Python 3.8.2 32-bit"
  }
 },
 "nbformat": 4,
 "nbformat_minor": 2,
 "cells": [
  {
   "cell_type": "code",
   "execution_count": 1,
   "metadata": {},
   "outputs": [
    {
     "output_type": "execute_result",
     "data": {
      "text/plain": "'C:\\\\Users\\\\TakahashiMihiro\\\\AppData\\\\Local\\\\Programs\\\\Python\\\\Python38-32\\\\lib\\\\random.py'"
     },
     "metadata": {},
     "execution_count": 1
    }
   ],
   "source": [
    "import random \n",
    "path_to_random = random.__file__\n",
    "path_to_random"
   ]
  },
  {
   "cell_type": "code",
   "execution_count": 2,
   "metadata": {},
   "outputs": [],
   "source": [
    "import os"
   ]
  },
  {
   "cell_type": "code",
   "execution_count": 3,
   "metadata": {},
   "outputs": [
    {
     "output_type": "execute_result",
     "data": {
      "text/plain": "True"
     },
     "metadata": {},
     "execution_count": 3
    }
   ],
   "source": [
    "os.path.exists(path_to_random)"
   ]
  },
  {
   "cell_type": "code",
   "execution_count": 6,
   "metadata": {},
   "outputs": [
    {
     "output_type": "execute_result",
     "data": {
      "text/plain": "False"
     },
     "metadata": {},
     "execution_count": 6
    }
   ],
   "source": [
    "os.path.isdir(path_to_random)"
   ]
  },
  {
   "cell_type": "code",
   "execution_count": 7,
   "metadata": {},
   "outputs": [
    {
     "output_type": "execute_result",
     "data": {
      "text/plain": "True"
     },
     "metadata": {},
     "execution_count": 7
    }
   ],
   "source": [
    "os.path.isfile(path_to_random)"
   ]
  },
  {
   "cell_type": "code",
   "execution_count": 8,
   "metadata": {},
   "outputs": [
    {
     "output_type": "execute_result",
     "data": {
      "text/plain": "'C:\\\\Users\\\\TakahashiMihiro\\\\AppData\\\\Local\\\\Programs\\\\Python\\\\Python38-32\\\\lib'"
     },
     "metadata": {},
     "execution_count": 8
    }
   ],
   "source": [
    "parent_path_name = os.path.dirname(path_to_random)\n",
    "parent_path_name"
   ]
  },
  {
   "cell_type": "code",
   "execution_count": 9,
   "metadata": {},
   "outputs": [
    {
     "output_type": "execute_result",
     "data": {
      "text/plain": "'random.py'"
     },
     "metadata": {},
     "execution_count": 9
    }
   ],
   "source": [
    "os.path.basename(path_to_random)"
   ]
  },
  {
   "cell_type": "code",
   "execution_count": 10,
   "metadata": {},
   "outputs": [
    {
     "output_type": "execute_result",
     "data": {
      "text/plain": "('C:\\\\Users\\\\TakahashiMihiro\\\\AppData\\\\Local\\\\Programs\\\\Python\\\\Python38-32\\\\lib',\n 'random.py')"
     },
     "metadata": {},
     "execution_count": 10
    }
   ],
   "source": [
    "dir_path_name, file_name = os.path.split(path_to_random)\n",
    "dir_path_name, file_name"
   ]
  },
  {
   "cell_type": "code",
   "execution_count": 11,
   "metadata": {},
   "outputs": [
    {
     "output_type": "execute_result",
     "data": {
      "text/plain": "'C:\\\\Users\\\\TakahashiMihiro\\\\AppData\\\\Local\\\\Programs\\\\Python\\\\Python38-32\\\\lib\\\\random.py'"
     },
     "metadata": {},
     "execution_count": 11
    }
   ],
   "source": [
    "os.path.join(dir_path_name, file_name)"
   ]
  },
  {
   "cell_type": "code",
   "execution_count": 12,
   "metadata": {},
   "outputs": [
    {
     "output_type": "execute_result",
     "data": {
      "text/plain": "29617"
     },
     "metadata": {},
     "execution_count": 12
    }
   ],
   "source": [
    "os.path.getsize(path_to_random)"
   ]
  },
  {
   "cell_type": "code",
   "execution_count": 13,
   "metadata": {
    "tags": []
   },
   "outputs": [
    {
     "output_type": "stream",
     "name": "stdout",
     "text": "os.getcwd(): c:\\Users\\TakahashiMihiro\\Documents\\GitHub\\1-2-python-skillup-text-m-takahashi-sys\n"
    }
   ],
   "source": [
    "initial_dir = os.getcwd()\n",
    "print(\"os.getcwd():\", initial_dir)"
   ]
  },
  {
   "cell_type": "code",
   "execution_count": 14,
   "metadata": {},
   "outputs": [],
   "source": [
    "my_dir = \"os_practice\"\n",
    "os.mkdir(my_dir)"
   ]
  },
  {
   "cell_type": "code",
   "execution_count": 15,
   "metadata": {},
   "outputs": [],
   "source": [
    "os.chdir(my_dir)"
   ]
  },
  {
   "cell_type": "code",
   "execution_count": 16,
   "metadata": {
    "tags": []
   },
   "outputs": [
    {
     "output_type": "stream",
     "name": "stdout",
     "text": "os.getcwd(): c:\\Users\\TakahashiMihiro\\Documents\\GitHub\\1-2-python-skillup-text-m-takahashi-sys\\os_practice\n"
    }
   ],
   "source": [
    "print(\"os.getcwd():\", os.getcwd())"
   ]
  },
  {
   "cell_type": "code",
   "execution_count": 17,
   "metadata": {},
   "outputs": [],
   "source": [
    "file_name = \"os_test.txt\"\n",
    "with open(file_name, \"w\") as f:\n",
    "    f.write(\"Live in the present.\")"
   ]
  },
  {
   "cell_type": "code",
   "execution_count": 18,
   "metadata": {
    "tags": []
   },
   "outputs": [
    {
     "output_type": "stream",
     "name": "stdout",
     "text": "os.listdir(): ['os_test.txt']\n"
    }
   ],
   "source": [
    "print(\"os.listdir():\", os.listdir())"
   ]
  },
  {
   "cell_type": "code",
   "execution_count": 20,
   "metadata": {},
   "outputs": [],
   "source": [
    "new_file_name = \"new_file_test.txt\"\n",
    "os.rename(file_name, new_file_name)"
   ]
  },
  {
   "cell_type": "code",
   "execution_count": 21,
   "metadata": {
    "tags": []
   },
   "outputs": [
    {
     "output_type": "stream",
     "name": "stdout",
     "text": "os.listdir(): ['new_file_test.txt']\n"
    }
   ],
   "source": [
    "print(\"os.listdir():\", os.listdir())"
   ]
  },
  {
   "cell_type": "code",
   "execution_count": 22,
   "metadata": {},
   "outputs": [],
   "source": [
    "os.remove(new_file_name)"
   ]
  },
  {
   "cell_type": "code",
   "execution_count": 23,
   "metadata": {
    "tags": []
   },
   "outputs": [
    {
     "output_type": "stream",
     "name": "stdout",
     "text": "os.listdir(): []\n"
    }
   ],
   "source": [
    "print(\"os.listdir():\", os.listdir())"
   ]
  },
  {
   "cell_type": "code",
   "execution_count": 24,
   "metadata": {},
   "outputs": [],
   "source": [
    "os.chdir(initial_dir)"
   ]
  },
  {
   "cell_type": "code",
   "execution_count": 25,
   "metadata": {
    "tags": []
   },
   "outputs": [
    {
     "output_type": "stream",
     "name": "stdout",
     "text": "os.getcwd(): c:\\Users\\TakahashiMihiro\\Documents\\GitHub\\1-2-python-skillup-text-m-takahashi-sys\n"
    }
   ],
   "source": [
    "print(\"os.getcwd():\", os.getcwd())"
   ]
  },
  {
   "cell_type": "code",
   "execution_count": 26,
   "metadata": {},
   "outputs": [],
   "source": [
    "os.rmdir(my_dir)"
   ]
  },
  {
   "cell_type": "code",
   "execution_count": 27,
   "metadata": {},
   "outputs": [
    {
     "output_type": "execute_result",
     "data": {
      "text/plain": "False"
     },
     "metadata": {},
     "execution_count": 27
    }
   ],
   "source": [
    "os.path.exists(my_dir)"
   ]
  },
  {
   "cell_type": "code",
   "execution_count": 28,
   "metadata": {
    "tags": []
   },
   "outputs": [
    {
     "output_type": "stream",
     "name": "stdout",
     "text": "os.getcwd(): c:\\Users\\TakahashiMihiro\\Documents\\GitHub\\1-2-python-skillup-text-m-takahashi-sys\n"
    }
   ],
   "source": [
    "os.system('mkdir today')\n",
    "print(\"os.getcwd():\", os.getcwd())"
   ]
  },
  {
   "cell_type": "code",
   "execution_count": 29,
   "metadata": {
    "tags": []
   },
   "outputs": [
    {
     "output_type": "stream",
     "name": "stdout",
     "text": "ディレクトリ today があります。これを消去します。\nディレクトリ today を消去しました。\n"
    }
   ],
   "source": [
    "if os.path.exists(\"today\"):\n",
    "    print(\"ディレクトリ today があります。これを消去します。\")\n",
    "    os.rmdir(\"today\")\n",
    "    print(\"ディレクトリ today を消去しました。\")"
   ]
  },
  {
   "cell_type": "code",
   "execution_count": null,
   "metadata": {},
   "outputs": [],
   "source": [
    "print(os.environ)"
   ]
  },
  {
   "cell_type": "code",
   "execution_count": null,
   "metadata": {},
   "outputs": [],
   "source": [
    "os.environ[\"HOME\"]"
   ]
  },
  {
   "cell_type": "code",
   "execution_count": 2,
   "metadata": {},
   "outputs": [],
   "source": [
    "os.getenv(\"HOME\")"
   ]
  },
  {
   "cell_type": "code",
   "execution_count": 5,
   "metadata": {},
   "outputs": [],
   "source": [
    "import os\n",
    "def prepare_dir(dir_name=\"save_dir\"):\n",
    "    if os.path.exists(dir_name):\n",
    "        print(\"ディレクトリ'{}'が存在します。\".format(dir_name))\n",
    "    else:\n",
    "        os.mkdir(dir_name)\n",
    "        print(\"ディレクトリ'{}'を作成しました。\".format(dir_name))"
   ]
  },
  {
   "cell_type": "code",
   "execution_count": 6,
   "metadata": {
    "tags": []
   },
   "outputs": [
    {
     "output_type": "stream",
     "name": "stdout",
     "text": "ディレクトリ'save_dir'を作成しました。\n"
    }
   ],
   "source": [
    "prepare_dir()"
   ]
  },
  {
   "cell_type": "code",
   "execution_count": 8,
   "metadata": {
    "tags": []
   },
   "outputs": [
    {
     "output_type": "stream",
     "name": "stdout",
     "text": "ディレクトリ'save_dir'が存在します。\n"
    }
   ],
   "source": [
    "prepare_dir()"
   ]
  },
  {
   "cell_type": "code",
   "execution_count": 10,
   "metadata": {},
   "outputs": [],
   "source": [
    "import os\n",
    "\n",
    "def delete_dir(dir_name=\"save_dir\"):\n",
    "    if os.path.exists(dir_name):\n",
    "        print(\"ディレクトリ'{}'が存在します。\".format(dir_name))\n",
    "        os.rmdir(dir_name)\n",
    "        print(\"ディレクトリ'{}'を消去しました。\".format(dir_name))\n",
    "    else:\n",
    "        print(\"ディレクトリ'{}'はありません。\".format(dir_name))"
   ]
  },
  {
   "cell_type": "code",
   "execution_count": 12,
   "metadata": {
    "tags": []
   },
   "outputs": [
    {
     "output_type": "stream",
     "name": "stdout",
     "text": "ディレクトリ'save_dir'が存在します。\nディレクトリ'save_dir'を消去しました。\n"
    }
   ],
   "source": [
    "delete_dir()"
   ]
  },
  {
   "cell_type": "code",
   "execution_count": 13,
   "metadata": {
    "tags": []
   },
   "outputs": [
    {
     "output_type": "stream",
     "name": "stdout",
     "text": "ディレクトリ'save_dir'はありません。\n"
    }
   ],
   "source": [
    "delete_dir()"
   ]
  }
 ]
}